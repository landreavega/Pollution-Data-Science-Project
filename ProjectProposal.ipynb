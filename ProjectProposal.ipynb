{
 "cells": [
  {
   "cell_type": "markdown",
   "metadata": {},
   "source": [
    "# COGS 108 - Final Project Proposal"
   ]
  },
  {
   "cell_type": "markdown",
   "metadata": {},
   "source": [
    "# Names\n",
    "\n",
    "- Asia Esmael\n",
    "- Harsimran Singh\n",
    "- Luz Acevedo\n",
    "- Jake Song\n",
    "- Kimiya Ataiyan"
   ]
  },
  {
   "cell_type": "markdown",
   "metadata": {},
   "source": [
    "# Group Members IDs\n",
    "\n",
    "- A12870222\n",
    "- A15752152\n",
    "- A14690884\n",
    "- A16056155\n",
    "- A15753878"
   ]
  },
  {
   "cell_type": "markdown",
   "metadata": {},
   "source": [
    "# Research Question"
   ]
  },
  {
   "cell_type": "markdown",
   "metadata": {},
   "source": [
    "Does the air pollution in LA cause respiratory diseases to increase?"
   ]
  },
  {
   "cell_type": "markdown",
   "metadata": {},
   "source": [
    "## Background and Prior Work"
   ]
  },
  {
   "cell_type": "markdown",
   "metadata": {},
   "source": [
    "Los Angeles is ranked amongst the worst in the country in regard to air pollution(1). About 43.3% of the American population lives in counties with unhealthy ozone and/or particle pollution levels,and one of our team members is part of this population, which is why this topic is important to us(1). The rest of our team members also live in close proximity to Los Angeles, which adds more importance to the topic. Since we all regularly use our cars it makes us a contributor to the externalized cost of air pollution, and looking into this topic will reconsider lifestyle decisions.\n",
    "There has also been an increase in respiratory diseases in California over the past years, leading to many death cases(2). This is also an important part of our topic since one of our group members has recently experience lung issues with short breath problems. \n",
    "\n",
    "References (include links):\n",
    "- 1)Air Pollution Increase in LA: https://www.latimes.com/local/lanow/la-me-ln-los-angeles-air-ozone-pollution-20190424-story.html\n",
    "- 2)Respiratory disease increase: https://www.scpr.org/news/2017/09/25/75894/breathing-la-air-may-increase-your-risk-of-kidney/"
   ]
  },
  {
   "cell_type": "markdown",
   "metadata": {},
   "source": [
    "# Hypothesis\n"
   ]
  },
  {
   "cell_type": "markdown",
   "metadata": {},
   "source": [
    "Our main hypothesis is that we do believe that the higher air pollution levels cause an increase in respiratory diseases in Los Angeles. The pollution in Los Angeles, according to our background research is quite high and we believe this correlates with respiratory diseases increasing.\n"
   ]
  },
  {
   "cell_type": "markdown",
   "metadata": {},
   "source": [
    "# Data"
   ]
  },
  {
   "cell_type": "markdown",
   "metadata": {},
   "source": [
    "*Explain what the ideal dataset you would want to answer this question. (This should include: What variables? How many observations? Who/what/how would these data be collected? How would these data be stored/organized?)*\n",
    "\n",
    "An ideal dataset would have a very recent, detailed data collection of the pollution particulates in the air of Los Angeles. For the variables for this dataset we would like to have date, year, tons/day ozone forming air pollution. \n",
    "\n",
    "For the respiratory disease data, and ideal dataset would involve a good amount of cases (~1000) that have experienced any sort of respiratory disease. The data should be recent and  come from a trusted, reliable source that shows an increase in respiratory diseases. Such data should be provided by trusted Health Sources. The variables would include the different kind of respiratory diseases, number of affected people, date and year and month. "
   ]
  },
  {
   "cell_type": "markdown",
   "metadata": {},
   "source": [
    "# Ethics & Privacy"
   ]
  },
  {
   "cell_type": "markdown",
   "metadata": {},
   "source": [
    "The topic we are dicussing does not involve ethical issues. We need to make sure that the dataset is accurate and from a public, trusted and reliable sources. "
   ]
  },
  {
   "cell_type": "markdown",
   "metadata": {},
   "source": [
    "# Team Expectations "
   ]
  },
  {
   "cell_type": "markdown",
   "metadata": {},
   "source": [
    "- expect that team members show up punctual for meetings, respect for one anothers time \n",
    "- expect team members to communicate issues with their part of the work \n",
    "- fair division of work load "
   ]
  },
  {
   "cell_type": "markdown",
   "metadata": {},
   "source": [
    "# Project Timeline Proposal"
   ]
  },
  {
   "cell_type": "markdown",
   "metadata": {},
   "source": [
    "| Meeting Date  | Meeting Time| Completed Before Meeting  | Discuss at Meeting |\n",
    "|---|---|---|---|\n",
    "| 1/25 |  7 PM | Think about possible datasets; brainstorm topics/questions/details | Determine best form of communication; Discuss and decide on final project topic; discuss hypothesis; begin background research | \n",
    "| 1/28  |  9 PM |  Do more background research on topic | Discuss ideal dataset(s) and ethics; draft project proposal | \n",
    "| 1/30  | 7PM  | Edit, finalize, and submit proposal; Search for datasets  | Discuss Wrangling and possible analytical approaches; Assign group members to lead each specific part   |\n",
    "| 2/8 | 6 PM  | Import & Wrangle Data (Asia); EDA (Kimiya) | Review/Edit wrangling/EDA; Discuss Analysis Plan   |\n",
    "| 2/23  | 12 PM  | Finalize wrangling/EDA; Begin Analysis (Luz; Jake) | Discuss/edit Analysis; Complete project check-in |\n",
    "| 3/13  | 12 PM  | Complete analysis; Draft results/conclusion/discussion (Harsimran)| Discuss/edit full project |\n",
    "| 3/19  | 4PM | NA | Turn in Final Project & Group Project Surveys |"
   ]
  },
  {
   "cell_type": "code",
   "execution_count": null,
   "metadata": {},
   "outputs": [],
   "source": []
  }
 ],
 "metadata": {
  "kernelspec": {
   "display_name": "Python 3",
   "language": "python",
   "name": "python3"
  },
  "language_info": {
   "codemirror_mode": {
    "name": "ipython",
    "version": 3
   },
   "file_extension": ".py",
   "mimetype": "text/x-python",
   "name": "python",
   "nbconvert_exporter": "python",
   "pygments_lexer": "ipython3",
   "version": "3.7.3"
  }
 },
 "nbformat": 4,
 "nbformat_minor": 2
}
