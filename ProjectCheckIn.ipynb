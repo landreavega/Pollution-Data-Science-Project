{
 "cells": [
  {
   "cell_type": "markdown",
   "metadata": {},
   "source": [
    "# COGS 108 Final Project Check-In"
   ]
  },
  {
   "cell_type": "markdown",
   "metadata": {},
   "source": [
    "# Names\n",
    "\n",
    "- Asia Esmael\n",
    "- Harsimran Singh\n",
    "- Luz Acevedo\n",
    "- Jake Song\n",
    "- Kimiya Ataiyan"
   ]
  },
  {
   "cell_type": "markdown",
   "metadata": {},
   "source": [
    "# Group Members IDs\n",
    "\n",
    "- A12870222\n",
    "- A15752152\n",
    "- A14690884\n",
    "- A16056155\n",
    "- A15753878"
   ]
  },
  {
   "cell_type": "markdown",
   "metadata": {},
   "source": [
    "# Accomplishments"
   ]
  },
  {
   "cell_type": "markdown",
   "metadata": {},
   "source": [
    "We agreed on 2 datasets that we will use. We have analyzed and processed the data on a superficial level and did some data wrangling. We now know our Data set very well, and already looked at missing values which we tried to come up with an explanation for."
   ]
  },
  {
   "cell_type": "markdown",
   "metadata": {},
   "source": [
    "# Going Well"
   ]
  },
  {
   "cell_type": "markdown",
   "metadata": {},
   "source": [
    " We found dense Data sets, which will give us a lot of data points to work with. We have a good idea of which person is doing which part of the project, we also split up the work evenly.\n",
    "Our data is all clean and ready to work with."
   ]
  },
  {
   "cell_type": "markdown",
   "metadata": {},
   "source": [
    "# Struggles"
   ]
  },
  {
   "cell_type": "markdown",
   "metadata": {},
   "source": [
    "We have conflicting schedules which makes it hard to meet with all team mates present at all times. We are not sure about how to explain the ethics part of our project and we are not sure how we want to visualize our data yet.\n",
    "It will take some extra research to interpret the values for the Air Quality such as PM2.5 and apply it to our conclusion statement."
   ]
  },
  {
   "cell_type": "markdown",
   "metadata": {},
   "source": [
    "# Plan Forward"
   ]
  },
  {
   "cell_type": "markdown",
   "metadata": {},
   "source": [
    "We are trying to meet more in person as a group, so we can code together and address any issues that a team member could have with understanding/interpretating the data.\n",
    "We will do more research on ethical issues with our data, and familiarize ourselfs with visualizations that could fit in showing our dataset. "
   ]
  },
  {
   "cell_type": "code",
   "execution_count": null,
   "metadata": {},
   "outputs": [],
   "source": []
  }
 ],
 "metadata": {
  "kernelspec": {
   "display_name": "Python 3",
   "language": "python",
   "name": "python3"
  },
  "language_info": {
   "codemirror_mode": {
    "name": "ipython",
    "version": 3
   },
   "file_extension": ".py",
   "mimetype": "text/x-python",
   "name": "python",
   "nbconvert_exporter": "python",
   "pygments_lexer": "ipython3",
   "version": "3.7.3"
  }
 },
 "nbformat": 4,
 "nbformat_minor": 2
}
